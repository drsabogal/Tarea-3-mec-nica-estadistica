{
 "cells": [
  {
   "cell_type": "code",
   "execution_count": 253,
   "metadata": {},
   "outputs": [],
   "source": [
    "import numpy as np\n",
    "import matplotlib.pyplot as plt\n",
    "#Código desarrollado por Daniel Sabogal "
   ]
  },
  {
   "cell_type": "code",
   "execution_count": 465,
   "metadata": {},
   "outputs": [],
   "source": [
    "# Función que  genera una configuración de spines al azar de tamaño n \n",
    "def crear_red(n):\n",
    "    red = np.random.randint(0,2,(n,n))\n",
    "    red[red == 0 ] = -1\n",
    "    return red"
   ]
  },
  {
   "cell_type": "code",
   "execution_count": 466,
   "metadata": {},
   "outputs": [],
   "source": [
    "#Función que calcula la energía de la red, aqui se calcula sumando la multiplicacion de columnas y filas, asi se tiene en cuenta y se corrige el sobre conteo.\n",
    "def energia1(red):\n",
    "    J=1\n",
    "    e = 0\n",
    "    for i in range(n):\n",
    "        if(i==n-1):\n",
    "            e = e+ np.sum(red[:,i]*red[:,0])  \n",
    "        else:\n",
    "            e = e+ np.sum(red[:,i]*red[:,i+1])       \n",
    "    for i in range(n):\n",
    "        if(i==n-1):\n",
    "            e = e+ np.sum(red[i,:]*red[0,:])  \n",
    "        else:\n",
    "            e = e+ np.sum(red[i,:]*red[i+1,:])\n",
    "\n",
    "    return -J*e\n"
   ]
  },
  {
   "cell_type": "code",
   "execution_count": 467,
   "metadata": {},
   "outputs": [],
   "source": [
    "#misma función que calcula la energía pero optimizada\n",
    "def energia2(red,n):\n",
    "    J=1\n",
    "    e = np.sum(red[:,n-1]*red[:,0]) + np.sum(red[n-1,:]*red[0,:])  \n",
    "    for i in range(n-1):\n",
    "        e = e+ np.sum(red[:,i]*red[:,i+1])       \n",
    "    for i in range(n-1):\n",
    "        e = e+ np.sum(red[i,:]*red[i+1,:])\n",
    "\n",
    "    return -J*e\n",
    "\n"
   ]
  },
  {
   "cell_type": "code",
   "execution_count": 505,
   "metadata": {},
   "outputs": [],
   "source": [
    "#función que calcula el cambio de energía si se cambia un spin\n",
    "def cambioE(red1,n,Al):\n",
    "    redInicial =np.copy(red1)\n",
    "    rand = Al\n",
    "    E0 = energia2(redInicial,n)\n",
    "    red1[rand[0],rand[1]] = red1[rand[0],rand[1]]*(-1)\n",
    "    E1 = energia2(red1,n)\n",
    "    dE = E1-E0\n",
    "    return redInicial,red1,dE\n"
   ]
  },
  {
   "cell_type": "code",
   "execution_count": 535,
   "metadata": {},
   "outputs": [],
   "source": [
    "#esta es a función principal, ya que ejecuta el algoritmo de metropolis\n",
    "# guarda el valor de energia y de magnetización(T) para cada paso\n",
    "def magne(T):\n",
    "    n = 50\n",
    "    K = 1.3*10**(-23)\n",
    "    beta = 1/(K*T)\n",
    "    Energia= []\n",
    "    redAct = crear_red(n)\n",
    "    M = []\n",
    "\n",
    "    for i in range(60000):\n",
    "        ale = np.random.randint(0,n,2)\n",
    "        dE = cambioE(redAct,n,ale)\n",
    "        if(dE[2]<=0):\n",
    "            Energia.append(energia2(redAct,n))\n",
    "            M.append(np.sum(redAct))\n",
    "            redAct = dE[1]\n",
    "\n",
    "        else:\n",
    "            if(np.random.random(1)[0]<np.exp(-beta*dE[2])):\n",
    "                Energia.append(energia2(redAct,n))\n",
    "                M.append(np.sum(redAct))\n",
    "                redAct = dE[1]\n",
    "            else:\n",
    "                Energia.append(energia2(redAct,n))\n",
    "                M.append(np.sum(redAct))\n",
    "                redAct = dE[0]\n",
    "\n",
    "    return M\n",
    "            "
   ]
  },
  {
   "cell_type": "code",
   "execution_count": 541,
   "metadata": {},
   "outputs": [
    {
     "data": {
      "text/plain": [
       "Text(0.5, 0, 'Iteraciones')"
      ]
     },
     "execution_count": 541,
     "metadata": {},
     "output_type": "execute_result"
    },
    {
     "data": {
      "image/png": "[encoded data removed]",
      "text/plain": [
       "<Figure size 432x288 with 1 Axes>"
      ]
     },
     "metadata": {
      "needs_background": "light"
     },
     "output_type": "display_data"
    }
   ],
   "source": [
    "#Se grafica el valor de energia en funcion del tiempo\n",
    "t = np.arange(0,len(np.array(Energia)))\n",
    "plt.plot(t,np.array(Energia),label=\"T = 273K\")\n",
    "plt.legend()\n",
    "plt.ylabel(\"Energía\")\n",
    "plt.xlabel(\"Iteraciones\")"
   ]
  },
  {
   "cell_type": "code",
   "execution_count": 545,
   "metadata": {},
   "outputs": [
    {
     "data": {
      "text/plain": [
       "Text(0, 0.5, 'Magnetización')"
      ]
     },
     "execution_count": 545,
     "metadata": {},
     "output_type": "execute_result"
    },
    {
     "data": {
      "image/png": "[encoded data removed]",
      "text/plain": [
       "<Figure size 432x288 with 1 Axes>"
      ]
     },
     "metadata": {
      "needs_background": "light"
     },
     "output_type": "display_data"
    }
   ],
   "source": [
    "#se grafica el valor de magnetización en funcion del tiempo\n",
    "plt.plot(t,np.array(M),label = \"T= 273K\")\n",
    "plt.legend()\n",
    "plt.xlabel(\"Iteraciones\")\n",
    "plt.ylabel(\"Magnetización\")"
   ]
  },
  {
   "cell_type": "code",
   "execution_count": 579,
   "metadata": {},
   "outputs": [],
   "source": [
    "#Aqui se calcula la magnetización para distintos valores de T\n",
    "\n",
    "M50 = Magne(50)\n",
    "M100 = Magne(100)\n",
    "M150 = Magne(150)\n",
    "M200 = Magne(200)\n",
    "M250 = Magne(250)\n",
    "M300 = Magne(300)\n",
    "M350 = Magne(350)\n",
    "M400 = Magne(400)\n",
    "M450= Magne(450)\n",
    "M500 = Magne(500)"
   ]
  },
  {
   "cell_type": "code",
   "execution_count": 578,
   "metadata": {},
   "outputs": [],
   "source": [
    "#promedio magnetización despues de 30000 pasos\n",
    "MP50 = np.average(M50[30000:-1])\n",
    "MP100 = np.average(M100[30000:-1])\n",
    "MP150 = np.average(M150[30000:-1])\n",
    "MP200 = np.average(M200[30000:-1])\n",
    "MP250 = np.average(M250[30000:-1])\n",
    "MP300 = np.average(M300[30000:-1])\n",
    "MP350 = np.average(M350[30000:-1])\n",
    "MP400 = np.average(M400[30000:-1])\n",
    "MP450 = np.average(M450[30000:-1])\n",
    "MP500 = np.average(M500[30000:-1])\n"
   ]
  },
  {
   "cell_type": "code",
   "execution_count": 580,
   "metadata": {},
   "outputs": [],
   "source": [
    "#mas valores de magnetización porque me di cuenta que T critica era grande\n",
    "M1000 = Magne(1000)\n",
    "M1500 = Magne(1500)\n",
    "M2000 = Magne(2000)\n",
    "M2500 = Magne(2500)\n",
    "M3000 = Magne(3000)\n",
    "M3500 = Magne(3500)\n",
    "M4000 = Magne(4000)\n",
    "M4500= Magne(4500)\n",
    "M5000 = Magne(5000)"
   ]
  },
  {
   "cell_type": "code",
   "execution_count": 581,
   "metadata": {},
   "outputs": [],
   "source": [
    "#mas promedio de magnetización\n",
    "MP1000 = np.average(M1000[30000:-1])\n",
    "MP1500 = np.average(M1500[30000:-1])\n",
    "MP2000 = np.average(M2000[30000:-1])\n",
    "MP2500 = np.average(M2500[30000:-1])\n",
    "MP3000 = np.average(M3000[30000:-1])\n",
    "MP3500 = np.average(M3500[30000:-1])\n",
    "MP4000 = np.average(M4000[30000:-1])\n",
    "MP4500 = np.average(M4500[30000:-1])\n",
    "MP5000 = np.average(M5000[30000:-1])"
   ]
  },
  {
   "cell_type": "code",
   "execution_count": 590,
   "metadata": {},
   "outputs": [],
   "source": [
    "#aquí se crea arreglo de magnetización y temperatura\n",
    "MP = np.array([MP50,MP100,MP150,MP200,MP250,MP300,MP350,MP400,MP450,MP500,MP1000,MP1500,MP2000,MP2500,MP3000,MP3500,MP4000,MP4500,MP5000])\n",
    "T= np.array([50,100,150,200,250,300,350,400,450,500,1000,1500,2000,2500,3000,3500,4000,4500,5000])"
   ]
  },
  {
   "cell_type": "code",
   "execution_count": 593,
   "metadata": {},
   "outputs": [
    {
     "data": {
      "text/plain": [
       "Text(0, 0.5, 'Magnetización promedio')"
      ]
     },
     "execution_count": 593,
     "metadata": {},
     "output_type": "execute_result"
    },
    {
     "data": {
      "image/png": "[encoded data removed]",
      "text/plain": [
       "<Figure size 432x288 with 1 Axes>"
      ]
     },
     "metadata": {
      "needs_background": "light"
     },
     "output_type": "display_data"
    }
   ],
   "source": [
    "#grafica magnetización promedio contra temperatura\n",
    "plt.plot(T,MP)\n",
    "plt.xlabel(\"Temperatura(K)\")\n",
    "plt.ylabel(\"Magnetización promedio\")"
   ]
  },
  {
   "cell_type": "code",
   "execution_count": null,
   "metadata": {},
   "outputs": [],
   "source": []
  }
 ],
 "metadata": {
  "kernelspec": {
   "display_name": "Python 3",
   "language": "python",
   "name": "python3"
  },
  "language_info": {
   "codemirror_mode": {
    "name": "ipython",
    "version": 3
   },
   "file_extension": ".py",
   "mimetype": "text/x-python",
   "name": "python",
   "nbconvert_exporter": "python",
   "pygments_lexer": "ipython3",
   "version": "3.7.6"
  }
 },
 "nbformat": 4,
 "nbformat_minor": 4
}
